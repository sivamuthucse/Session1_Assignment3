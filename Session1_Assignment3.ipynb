{
 "cells": [
  {
   "cell_type": "code",
   "execution_count": 4,
   "metadata": {},
   "outputs": [
    {
     "name": "stdout",
     "output_type": "stream",
     "text": [
      "Input your First Name : Siva\n",
      "Input your Last Name : Kumar\n",
      "Reverse Order of the Input : Kumar Siva\n"
     ]
    }
   ],
   "source": [
    "# Question :\n",
    "# Write a Python program to accept the user's first and last name and then getting them \n",
    "# printed in the the reverse order with a space between first name and last name.\n",
    "\n",
    "# Hints: \n",
    "# Consider use range(#begin, #end) method\n",
    "\n",
    "# Solution :\n",
    "    \n",
    "fname = input(\"Input your First Name : \")\n",
    "lname = input(\"Input your Last Name : \")\n",
    "print (\"Reverse Order of the Input : \" + lname + \" \" + fname)"
   ]
  },
  {
   "cell_type": "code",
   "execution_count": null,
   "metadata": {
    "collapsed": true
   },
   "outputs": [],
   "source": []
  }
 ],
 "metadata": {
  "kernelspec": {
   "display_name": "Python 3",
   "language": "python",
   "name": "python3"
  },
  "language_info": {
   "codemirror_mode": {
    "name": "ipython",
    "version": 3
   },
   "file_extension": ".py",
   "mimetype": "text/x-python",
   "name": "python",
   "nbconvert_exporter": "python",
   "pygments_lexer": "ipython3",
   "version": "3.6.2"
  }
 },
 "nbformat": 4,
 "nbformat_minor": 2
}
